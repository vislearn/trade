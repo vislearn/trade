{
 "cells": [
  {
   "cell_type": "code",
   "execution_count": null,
   "id": "48f5e7b6-0bfe-41a7-b664-02066b5759a0",
   "metadata": {},
   "outputs": [],
   "source": [
    "%cd .."
   ]
  },
  {
   "cell_type": "code",
   "execution_count": null,
   "id": "a26117e3-d26c-4417-8cc1-d0b84c3dd402",
   "metadata": {},
   "outputs": [],
   "source": [
    "import matplotlib.pyplot as plt\n",
    "import seaborn as sns\n",
    "from trade import BoltzmannGeneratorHParams, BoltzmannGenerator\n",
    "import torch\n",
    "import numpy as np\n",
    "from math import ceil, floor\n",
    "from yaml import safe_load\n",
    "import os\n",
    "from functools import partial\n",
    "import mdtraj as md\n",
    "from matplotlib.colors import LogNorm\n",
    "import matplotlib\n",
    "from beta_scaling.data import get_loader\n",
    "import pandas as pd\n",
    "from tqdm.auto import trange"
   ]
  },
  {
   "cell_type": "code",
   "execution_count": null,
   "id": "f7b98754-2893-4080-a044-51bec001f8a6",
   "metadata": {},
   "outputs": [],
   "source": [
    "device = \"cuda\" if torch.cuda.is_available() else \"cpu\""
   ]
  },
  {
   "cell_type": "markdown",
   "id": "0ffa8c00-bd69-4240-bc1b-966df52c45c7",
   "metadata": {},
   "source": [
    "## Plotting functions"
   ]
  },
  {
   "cell_type": "code",
   "execution_count": null,
   "id": "66575c5a-8151-4f9c-a82f-0223724f7513",
   "metadata": {},
   "outputs": [],
   "source": [
    "font = {'size'   : 12}\n",
    "\n",
    "matplotlib.rc('font', **font)"
   ]
  },
  {
   "cell_type": "code",
   "execution_count": null,
   "id": "9e5002fa-8cc9-4748-b34e-88308adc176f",
   "metadata": {},
   "outputs": [],
   "source": [
    "def plot_two_moons(flow, reference_data, reference_conditions, beta):\n",
    "    fig, ax = plt.subplots(1, 2, figsize=(12, 6))  # Larger figure size for better clarity\n",
    "    target_observation = torch.zeros(len(reference_data), 2, device=list(flow.parameters())[0].device)\n",
    "    samples = flow.sample(len(reference_data), c=[target_observation], parameter=beta)\n",
    "    ind_close = torch.where(torch.norm(reference_conditions - target_observation[:1].to(reference_conditions.device), dim=1) < 0.001)[0]\n",
    "    data_close = reference_data[ind_close].cpu().detach().numpy()\n",
    "    samples = samples.cpu().detach().numpy()\n",
    "\n",
    "    # Plot for Two Moons (NF)\n",
    "    ax[0].scatter(samples[:, 0], samples[:, 1], s=50, alpha=0.7, c='blue', edgecolor='black', label='NF samples')\n",
    "    ax[0].set_title(f\"TRADE at $\\\\beta$={beta:.1f}\", fontsize=14)\n",
    "    ax[0].set_xlabel(\"$\\psi_1$\", fontsize=12)\n",
    "    ax[0].set_ylabel(\"$\\psi_2$\", fontsize=12)\n",
    "    ax[0].grid(True, linestyle='--', alpha=0.6)\n",
    "\n",
    "    # Plot for Two Moons (Approximate GT)\n",
    "    ax[1].scatter(data_close[:, 0], data_close[:, 1], s=50, alpha=0.8, c='red', edgecolor='black', label='GT Reference Points')\n",
    "    ax[1].set_title(f\"Approximate ground truth at $\\\\beta$={beta:.1f}\", fontsize=14)\n",
    "    ax[1].set_xlabel(\"$\\psi_1$\", fontsize=12)\n",
    "    ax[1].set_ylabel(\"$\\psi_2$\", fontsize=12)\n",
    "    ax[1].grid(True, linestyle='--', alpha=0.6)\n",
    "\n",
    "    ax[0].set_xlim([-0.35, 0.35])\n",
    "    ax[1].set_xlim([-0.35, 0.35])\n",
    "    ax[0].set_ylim([-0.35, 0.35])\n",
    "    ax[1].set_ylim([-0.35, 0.35])\n",
    "    plt.tight_layout()\n",
    "    return fig, ax"
   ]
  },
  {
   "cell_type": "code",
   "execution_count": null,
   "id": "3a7d31eb-188c-4c4e-b475-180cab143126",
   "metadata": {},
   "outputs": [],
   "source": [
    "import numpy as np\n",
    "import matplotlib.pyplot as plt\n",
    "\n",
    "@torch.no_grad()\n",
    "def plot_calibration_curve(flow, flow_T1, reference_data, reference_conditions, beta, \n",
    "                           param_names=None, n_intervals=10, n_bootstrap=1000, ci_alpha=0.95, plot_T1=True, n_repeats=300):\n",
    "    \"\"\"\n",
    "    Plots calibration curves with 95% confidence intervals for a Bayesian inference model.\n",
    "\n",
    "    Args:\n",
    "        flow: The model used to generate posterior samples.\n",
    "        reference_data (array-like): True parameter values (shape: n_samples x 2).\n",
    "        reference_conditions (array-like): Conditional inputs for the flow model.\n",
    "        beta (float): beta parameter for the flow model.\n",
    "        param_names (list): Names of the parameters (default: None).\n",
    "        n_intervals (int): Number of credible intervals to evaluate.\n",
    "        n_bootstrap (int): Number of bootstrap samples for estimating confidence intervals.\n",
    "        ci_alpha (float): Confidence interval significance level.\n",
    "    \"\"\"\n",
    "\n",
    "    posterior_samples_T1 = flow_T1.sample(len(reference_data)*n_repeats, c=[reference_conditions.repeat_interleave(n_repeats, 0).to(device)], parameter=1.0)\n",
    "    posterior_samples = flow.sample(len(reference_data)*n_repeats, c=[reference_conditions.repeat_interleave(n_repeats, 0).to(device)], parameter=beta)\n",
    "    posterior_samples_T1 = posterior_samples_T1.reshape(-1, n_repeats, 2).cpu().detach().numpy()\n",
    "    posterior_samples = posterior_samples.reshape(-1, n_repeats, 2).cpu().detach().numpy()\n",
    "    # n_params = true_params.shape[1]\n",
    "\n",
    "    true_params = reference_data.cpu().detach().numpy()\n",
    "    true_params_dep = np.stack([-np.abs(true_params[..., 0] + true_params[..., 1]) / np.sqrt(2.0), (-true_params[..., 0] + true_params[..., 1]) / np.sqrt(2.0)], axis=-1)\n",
    "    true_r = reference_conditions.cpu().detach().numpy() - true_params_dep\n",
    "    true_r[:, 0] -= 0.25\n",
    "    true_r = np.sqrt(np.sum(true_r**2 , axis=-1, keepdims=True))\n",
    "\n",
    "\n",
    "\n",
    "    \n",
    "    model_params_dep = np.stack([-np.abs(posterior_samples[:, :, 0] + posterior_samples[:, :, 1]) / np.sqrt(2.0), (-posterior_samples[:, :, 0] + posterior_samples[:, :, 1]) / np.sqrt(2.0)], axis=-1)\n",
    "    # Ensure proper shape for reference_conditions\n",
    "    repeated_conditions = reference_conditions.repeat_interleave(n_repeats, 0).reshape(-1, n_repeats, 2)\n",
    "    \n",
    "    model_r = reference_conditions.repeat_interleave(n_repeats, 0).reshape(-1, n_repeats, 2) - model_params_dep\n",
    "    model_r[..., 0] -= 0.25\n",
    "    model_r = model_r.cpu().detach().numpy()\n",
    "    model_r = np.sqrt(np.sum(model_r**2, axis=-1, keepdims=True))\n",
    "    \n",
    "    model_params_dep_T1 = np.stack([-np.abs(posterior_samples_T1[..., 0] + posterior_samples_T1[..., 1]) / np.sqrt(2.0), (-posterior_samples_T1[..., 0] + posterior_samples_T1[..., 1]) / np.sqrt(2.0)], axis=-1)\n",
    "    model_r_T1 = reference_conditions.repeat_interleave(n_repeats, 0).reshape(-1, n_repeats, 2).cpu().detach().numpy() - model_params_dep_T1\n",
    "    model_r_T1[..., 0] -= 0.25\n",
    "    model_r_T1 = np.sqrt(np.sum(model_r_T1**2 , axis=-1, keepdims=True))\n",
    "\n",
    "    n_params = true_r.shape[1]\n",
    "\n",
    "    if param_names is None:\n",
    "        param_names = [f\"Param {i+1}\" for i in range(n_params)]\n",
    "    \n",
    "    fig, axes = plt.subplots(1, n_params, figsize=(6 * n_params, 5))\n",
    "    \n",
    "    for i in range(n_params):\n",
    "        # true_param_i = true_params[:, i]\n",
    "        # posterior_samples_i = posterior_samples[:, :, i]\n",
    "        # posterior_samples_T1_i = posterior_samples_T1[:, :, i]\n",
    "\n",
    "        true_param_i = true_r[:, i]\n",
    "        posterior_samples_i = model_r[:, :, i]\n",
    "        posterior_samples_T1_i = model_r_T1[:, :, i]\n",
    "        # print(posterior_samples_T1_i[0, 0], posterior_samples_i[0, 0])\n",
    "        \n",
    "        \n",
    "        interval_coverage = []\n",
    "        predicted_coverage = []\n",
    "        lower_ci = []\n",
    "        upper_ci = []\n",
    "\n",
    "        interval_coverage_T1 = []\n",
    "        lower_ci_T1 = []\n",
    "        upper_ci_T1 = []\n",
    "        for alpha in np.linspace(0, 1, n_intervals):\n",
    "            lower_bound = np.percentile(posterior_samples_i, (1 - alpha) * 100 / 2, axis=1)\n",
    "            upper_bound = np.percentile(posterior_samples_i, (1 + alpha) * 100 / 2, axis=1)\n",
    "\n",
    "            # print(upper_bound_T1[0], upper_bound[0])\n",
    "            \n",
    "            in_interval = (true_param_i >= lower_bound) & (true_param_i <= upper_bound)\n",
    "            empirical_coverage = np.mean(in_interval)\n",
    "\n",
    "            \n",
    "            lower_bound_T1 = np.percentile(posterior_samples_T1_i, (1 - alpha) * 100 / 2, axis=1)\n",
    "            upper_bound_T1 = np.percentile(posterior_samples_T1_i, (1 + alpha) * 100 / 2, axis=1)\n",
    "            \n",
    "            in_interval_T1 = (true_param_i >= lower_bound_T1) & (true_param_i <= upper_bound_T1)\n",
    "            empirical_coverage_T1 = np.mean(in_interval_T1)\n",
    "\n",
    "            # print(empirical_coverage, empirical_coverage_T1)\n",
    "            # Bootstrap to estimate 95% confidence intervals\n",
    "            bootstrap_coverage = []\n",
    "            bootstrap_coverage_T1 = []\n",
    "            for _ in range(n_bootstrap):\n",
    "                indices = np.random.choice(len(true_param_i), len(true_param_i), replace=True)\n",
    "                bootstrap_in_interval = in_interval[indices]\n",
    "                bootstrap_coverage.append(np.mean(bootstrap_in_interval))\n",
    "                \n",
    "                bootstrap_in_interval_T1 = in_interval_T1[indices]\n",
    "                bootstrap_coverage_T1.append(np.mean(bootstrap_in_interval_T1))\n",
    "            \n",
    "            ci_lower = np.percentile(bootstrap_coverage, (1 - ci_alpha) / 2 * 100)\n",
    "            ci_upper = np.percentile(bootstrap_coverage, (1 + ci_alpha) / 2 * 100)\n",
    "\n",
    "            ci_lower_T1 = np.percentile(bootstrap_coverage_T1, (1 - ci_alpha) / 2 * 100)\n",
    "            ci_upper_T1 = np.percentile(bootstrap_coverage_T1, (1 + ci_alpha) / 2 * 100)\n",
    "            \n",
    "            interval_coverage.append(empirical_coverage)\n",
    "            predicted_coverage.append(alpha)\n",
    "            lower_ci.append(ci_lower)\n",
    "            upper_ci.append(ci_upper)\n",
    "            \n",
    "            interval_coverage_T1.append(empirical_coverage_T1)\n",
    "            lower_ci_T1.append(ci_lower_T1)\n",
    "            upper_ci_T1.append(ci_upper_T1)\n",
    "        # Plot calibration curve with confidence intervals\n",
    "        ax = axes[i] if n_params > 1 else axes\n",
    "        ax.plot(predicted_coverage, interval_coverage, label=f\"TRADE at $\\\\beta={beta:.1f}$\", marker=\"o\", color=\"C0\")\n",
    "        ax.fill_between(predicted_coverage, lower_ci, upper_ci, color=\"C0\", alpha=0.2, label=f\"{int(ci_alpha * 100)}% CI\")\n",
    "\n",
    "        if plot_T1:\n",
    "            ax.plot(predicted_coverage, interval_coverage_T1, label=r\"Baseline model ($\\beta=1.0$)\", marker=\"o\", color=\"C1\")\n",
    "            ax.fill_between(predicted_coverage, lower_ci_T1, upper_ci_T1, color=\"C1\", alpha=0.2, label=f\"{int(ci_alpha * 100)}% CI\")\n",
    "        \n",
    "        ax.plot([0, 1], [0, 1], linestyle=\"--\", color=\"gray\", label=\"Perfect calibration\")\n",
    "        ax.set_title(f\"Calibration Curve for {param_names[i]} at $\\\\beta={beta:.1f}$\")\n",
    "        ax.set_xlabel(\"Predicted Coverage\")\n",
    "        ax.set_ylabel(\"Empirical Coverage\")\n",
    "        ax.legend(loc=\"upper left\")\n",
    "    \n",
    "    plt.tight_layout()\n"
   ]
  },
  {
   "cell_type": "markdown",
   "id": "68ba8b6d-77c2-4740-8730-45c42854ec66",
   "metadata": {},
   "source": [
    "## TRADE"
   ]
  },
  {
   "cell_type": "code",
   "execution_count": null,
   "id": "0d1178d4-6172-4010-a794-bd83456e909e",
   "metadata": {},
   "outputs": [],
   "source": [
    "model_folder = \"lightning_logs/version_\" # Path to your trained model\n",
    "\n",
    "hparams_path = os.path.join(model_folder, \"hparams.yaml\")\n",
    "checkpoint_path = os.path.join(model_folder, \"checkpoints/last.ckpt\")\n",
    "\n",
    "ckpt = torch.load(checkpoint_path)\n",
    "hparams = ckpt[\"hyper_parameters\"]\n",
    "del hparams[\"n_steps\"]\n",
    "del hparams[\"epoch_len\"]\n",
    "hparams[\"parameter_pinf_loss\"].additional_kwargs[\"mode\"] = \"continuous\"\n",
    "model = BoltzmannGenerator(hparams)\n",
    "model.load_state_dict(ckpt[\"state_dict\"])\n",
    "model.eval()\n",
    "pass"
   ]
  },
  {
   "cell_type": "code",
   "execution_count": null,
   "id": "18c61569-d97a-48a1-be9e-13221866a771",
   "metadata": {},
   "outputs": [],
   "source": [
    "beta = 1.0\n",
    "plot_data = np.load(f\"data/two_moons_target_obs_{beta:.1f}.npz\")\n",
    "reference_data = torch.from_numpy(plot_data[\"coordinates\"])\n",
    "reference_conditions = torch.from_numpy(plot_data[\"conditions\"])\n",
    "plot_two_moons_new(model.flow.cpu(), reference_data, reference_conditions, beta)"
   ]
  },
  {
   "cell_type": "code",
   "execution_count": null,
   "id": "75b9fb4d-ff23-4952-9b26-6d6d73d8e80f",
   "metadata": {},
   "outputs": [],
   "source": [
    "beta = 0.5\n",
    "plot_data = np.load(f\"data/two_moons_target_obs_{beta:.1f}.npz\")\n",
    "reference_data = torch.from_numpy(plot_data[\"coordinates\"])\n",
    "reference_conditions = torch.from_numpy(plot_data[\"conditions\"])\n",
    "plot_two_moons_new(model.flow.cpu(), reference_data, reference_conditions, beta)"
   ]
  },
  {
   "cell_type": "code",
   "execution_count": null,
   "id": "361b26b3-6b5e-44ed-8b1a-b2227aecdb0b",
   "metadata": {},
   "outputs": [],
   "source": [
    "beta = 2.0\n",
    "plot_data = np.load(f\"data/two_moons_target_obs_{beta:.1f}.npz\")\n",
    "reference_data = torch.from_numpy(plot_data[\"coordinates\"])\n",
    "reference_conditions = torch.from_numpy(plot_data[\"conditions\"])\n",
    "plot_two_moons_new(model.flow.cpu(), reference_data, reference_conditions, beta)"
   ]
  },
  {
   "cell_type": "markdown",
   "id": "ff292f94-c4df-45b9-971c-c0a9e251a08f",
   "metadata": {},
   "source": [
    "## Baseline Model"
   ]
  },
  {
   "cell_type": "code",
   "execution_count": null,
   "id": "27c6f6bd-603f-447e-ba93-d631d3c5323f",
   "metadata": {},
   "outputs": [],
   "source": [
    "model_folder2 = \"lightning_logs/version_\" # Path to your trained model\n",
    "\n",
    "hparams_path2 = os.path.join(model_folder2, \"hparams.yaml\")\n",
    "checkpoint_path2 = os.path.join(model_folder2, \"checkpoints/last.ckpt\")\n",
    "\n",
    "ckpt2 = torch.load(checkpoint_path2)\n",
    "hparams2 = ckpt2[\"hyper_parameters\"]\n",
    "del hparams2[\"n_steps\"]\n",
    "del hparams2[\"epoch_len\"]\n",
    "model2 = BoltzmannGenerator(hparams2)\n",
    "model2.load_state_dict(ckpt2[\"state_dict\"])\n",
    "model2.eval()\n",
    "pass"
   ]
  },
  {
   "cell_type": "code",
   "execution_count": null,
   "id": "b589cce6-7555-46e3-8621-d78e05654d98",
   "metadata": {},
   "outputs": [],
   "source": [
    "beta = 1.0\n",
    "plot_data = np.load(f\"data/two_moons_target_obs_{beta:.1f}.npz\")\n",
    "reference_data = torch.from_numpy(plot_data[\"coordinates\"])\n",
    "reference_conditions = torch.from_numpy(plot_data[\"conditions\"])\n",
    "plot_two_moons_new(model2.flow.cpu(), reference_data, reference_conditions, beta)"
   ]
  },
  {
   "cell_type": "markdown",
   "id": "643f79f1-b688-4158-acf5-ec5478887f86",
   "metadata": {},
   "source": [
    "## Combined Plots"
   ]
  },
  {
   "cell_type": "code",
   "execution_count": null,
   "id": "17889432-479a-4ea0-ad0c-223c6c0825f4",
   "metadata": {},
   "outputs": [],
   "source": [
    "beta = 1.0\n",
    "plot_data = np.load(f\"data/two_moons_{beta:.1f}.npz\")\n",
    "reference_data = torch.from_numpy(plot_data[\"coordinates\"]).float()[:1000]\n",
    "reference_conditions = torch.from_numpy(plot_data[\"conditions\"]).float()[:1000]\n",
    "plot_calibration_curve(model.flow.to(device), model2.flow.to(device), reference_data, reference_conditions, beta, plot_T1=True, n_repeats=300, param_names=[r\"$r$\"])"
   ]
  },
  {
   "cell_type": "code",
   "execution_count": null,
   "id": "e041ca66-e5af-40e6-993b-4056ff3a141f",
   "metadata": {},
   "outputs": [],
   "source": [
    "beta = 0.5\n",
    "plot_data = np.load(f\"data/two_moons_{beta:.1f}.npz\")\n",
    "reference_data = torch.from_numpy(plot_data[\"coordinates\"]).float()[:1000]\n",
    "reference_conditions = torch.from_numpy(plot_data[\"conditions\"]).float()[:1000]\n",
    "plot_calibration_curve(model.flow, model2.flow, reference_data, reference_conditions, beta, plot_T1=True, param_names=[r\"$r$\"])"
   ]
  },
  {
   "cell_type": "code",
   "execution_count": null,
   "id": "66d790cc-8bf5-4146-9774-ffb2ed097eda",
   "metadata": {},
   "outputs": [],
   "source": [
    "beta = 2.0\n",
    "plot_data = np.load(f\"data/two_moons_{beta:.1f}.npz\")\n",
    "reference_data = torch.from_numpy(plot_data[\"coordinates\"]).float()[:1000]\n",
    "reference_conditions = torch.from_numpy(plot_data[\"conditions\"]).float()[:1000]\n",
    "plot_calibration_curve(model.flow, model2.flow, reference_data, reference_conditions, beta, plot_T1=True, param_names=[r\"$r$\"])"
   ]
  }
 ],
 "metadata": {
  "kernelspec": {
   "display_name": "Python 3 (ipykernel)",
   "language": "python",
   "name": "python3"
  },
  "language_info": {
   "codemirror_mode": {
    "name": "ipython",
    "version": 3
   },
   "file_extension": ".py",
   "mimetype": "text/x-python",
   "name": "python",
   "nbconvert_exporter": "python",
   "pygments_lexer": "ipython3",
   "version": "3.10.12"
  }
 },
 "nbformat": 4,
 "nbformat_minor": 5
}
