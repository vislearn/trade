{
 "cells": [
  {
   "cell_type": "code",
   "execution_count": null,
   "id": "88033c8d-ea80-4f4b-95a9-7fa89e412394",
   "metadata": {},
   "outputs": [],
   "source": [
    "%cd .."
   ]
  },
  {
   "cell_type": "code",
   "execution_count": null,
   "id": "21af46cf-4712-4976-89d1-3fe45eaa362e",
   "metadata": {},
   "outputs": [],
   "source": [
    "import matplotlib.pyplot as plt\n",
    "import seaborn as sns\n",
    "from trade import BoltzmannGeneratorHParams, BoltzmannGenerator\n",
    "import torch\n",
    "import numpy as np\n",
    "from math import ceil, floor\n",
    "from yaml import safe_load\n",
    "import os\n",
    "from functools import partial\n",
    "import mdtraj as md\n",
    "from matplotlib.colors import LogNorm\n",
    "import matplotlib\n",
    "from trade.data import get_loader\n",
    "import pandas as pd\n",
    "from tqdm.auto import trange"
   ]
  },
  {
   "cell_type": "code",
   "execution_count": null,
   "id": "65377ab7-3df1-4f74-b091-4ecf1f7a15a9",
   "metadata": {},
   "outputs": [],
   "source": [
    "device = \"cuda\" if torch.cuda.is_available() else \"cpu\""
   ]
  },
  {
   "cell_type": "code",
   "execution_count": null,
   "id": "b55cfee7-3802-4c20-bf5e-dca8208de3bf",
   "metadata": {},
   "outputs": [],
   "source": [
    "@torch.no_grad()\n",
    "def ESS_from_log_weights(log_omega, clip_weights=False):\n",
    "    log_a = 2 * torch.logsumexp(log_omega,0)\n",
    "    log_b = torch.logsumexp(2 * log_omega,0)\n",
    "\n",
    "    ESS_r = torch.exp(log_a - log_b) / len(log_omega)\n",
    "    return ESS_r"
   ]
  },
  {
   "cell_type": "code",
   "execution_count": null,
   "id": "cc2f8b51-ad51-4422-8e6b-486d2fb88b67",
   "metadata": {},
   "outputs": [],
   "source": [
    "runs_folder = \"lightning_logs/\"\n",
    "full_names =  [os.path.join(runs_folder, f\"version_{i}\") for i in range(,)] # Paths to your models"
   ]
  },
  {
   "cell_type": "code",
   "execution_count": null,
   "id": "c1a4fc4b-44b4-4bc4-b1bb-324a6d70f314",
   "metadata": {},
   "outputs": [],
   "source": [
    "data_low_T = torch.from_numpy(np.load(f\"data/multi_well_5d_0.5.npz\")[\"coordinates\"]).to(device)\n",
    "n_samples_ESS = 30000"
   ]
  },
  {
   "cell_type": "code",
   "execution_count": null,
   "id": "b9e3056e-275d-40b9-9ad8-c27e10aedd14",
   "metadata": {},
   "outputs": [],
   "source": [
    "df = pd.DataFrame(columns=[\"version\", \n",
    "                           \"loss_mode\", \n",
    "                           \"sample_origin\", \n",
    "                           \"energy_origin\", \n",
    "                           \"reweight_samples\", \n",
    "                           \"temperature_weighted_loss\", \n",
    "                           \"backward_kl\", \n",
    "                           \"no_causality_weights\",\n",
    "                           \"NLL T=0.5\",\n",
    "                           \"NLL T=1.0\",\n",
    "                           \"ESS T=0.5\",\n",
    "                           \"ESS T=1.0\"])\n",
    "\n",
    "\n",
    "with torch.no_grad():\n",
    "    for i, model_folder in enumerate(full_names):\n",
    "        hparams_path = os.path.join(model_folder, \"hparams.yaml\")\n",
    "        checkpoint_path = os.path.join(model_folder, \"checkpoints/last.ckpt\")\n",
    "        \n",
    "        ckpt = torch.load(checkpoint_path)\n",
    "        hparams = ckpt[\"hyper_parameters\"]\n",
    "        del hparams[\"n_steps\"]\n",
    "        del hparams[\"epoch_len\"]\n",
    "        if hparams[\"parameter_pinf_loss\"] is not None:\n",
    "            if not \"n_points_param_grid\" in hparams[\"parameter_pinf_loss\"].additional_kwargs.keys():\n",
    "                hparams[\"parameter_pinf_loss\"].additional_kwargs[\"mode\"] = \"continuous\"\n",
    "            else:\n",
    "                hparams[\"parameter_pinf_loss\"].additional_kwargs[\"mode\"] = \"grid\"\n",
    "\n",
    "        model = BoltzmannGenerator(hparams)\n",
    "        model.load_state_dict(ckpt[\"state_dict\"])\n",
    "        model.eval().to(device)\n",
    "\n",
    "        low_T = 0.5 \n",
    "        try:\n",
    "            model_nll_low_T = model.flow.energy(data_low_T, c=[], parameter=low_T).mean().item()\n",
    "            model_nll_high_T = model.flow.energy(model.val_data[:][0].to(device), c=[], parameter=1.0).mean().item()\n",
    "        \n",
    "            log_weights_low_T = - model.flow.energy_ratio_from_latent(model.flow.prior.sample([n_samples_ESS], parameter=low_T), c=[], parameter=low_T)\n",
    "            log_weights_high_T = - model.flow.energy_ratio_from_latent(model.flow.prior.sample([n_samples_ESS], parameter=1.0), c=[], parameter=1.0)\n",
    "        except (RuntimeError, TypeError):\n",
    "            continue\n",
    "        ESS_low_T = ESS_from_log_weights(log_weights_low_T).item()\n",
    "        ESS_high_T = ESS_from_log_weights(log_weights_high_T).item()\n",
    "\n",
    "        if hparams[\"parameter_pinf_loss\"] is not None:\n",
    "            loss_mode = \"continuous\" if not \"n_points_param_grid\" in hparams[\"parameter_pinf_loss\"].additional_kwargs.keys() else \"grid\"\n",
    "            sample_origin = hparams[\"parameter_pinf_loss\"].additional_kwargs[\"take_samples_from\"]\n",
    "            energy_origin = hparams[\"parameter_pinf_loss\"].additional_kwargs[\"check_consistency_with\"]\n",
    "            reweight_samples = \"reference_parameter\" in dict(hparams[\"parameter_pinf_loss\"].additional_kwargs).keys()\n",
    "            reweight = False\n",
    "            backward_kl = False\n",
    "            no_causality_weights = dict(hparams[\"parameter_pinf_loss\"].additional_kwargs).get(\"use_target_proposals\")\n",
    "        \n",
    "        else:\n",
    "            backward_kl = hparams[\"kl_loss\"] is not None\n",
    "            reweight = hparams[\"temperature_weighted_loss\"] is not None\n",
    "            loss_mode = None\n",
    "            sample_origin = None\n",
    "            energy_origin = None\n",
    "            reweight_samples = None\n",
    "            no_causality_weights = None\n",
    "        \n",
    "        row = [model_folder.split(\"/\")[-1].split(\"_\")[-1],\n",
    "               loss_mode,\n",
    "               sample_origin,\n",
    "               energy_origin,\n",
    "               reweight_samples,\n",
    "               reweight,\n",
    "               backward_kl,\n",
    "               no_causality_weights,\n",
    "               model_nll_low_T,\n",
    "               model_nll_high_T,\n",
    "               ESS_low_T,\n",
    "               ESS_high_T]\n",
    "        df.loc[i] = row   "
   ]
  },
  {
   "cell_type": "code",
   "execution_count": null,
   "id": "f24a279e-d671-4e88-8009-384bb4e16d1a",
   "metadata": {},
   "outputs": [],
   "source": [
    "# Assuming df is your DataFrame\n",
    "settings_columns = [\n",
    "    'loss_mode', 'sample_origin', 'energy_origin', 'reweight_samples',\n",
    "    'temperature_weighted_loss', 'backward_kl', 'no_causality_weights'\n",
    "]\n",
    "\n",
    "results_columns = [\n",
    "    'NLL T=0.5', 'NLL T=1.0', 'ESS T=0.5', 'ESS T=1.0'\n",
    "]\n",
    "\n",
    "# Group by settings columns and aggregate the results columns\n",
    "aggregated_df = df.fillna(\"None\").groupby(settings_columns)[results_columns].agg(['mean', 'std']).reset_index()\n",
    "\n",
    "aggregated_df"
   ]
  }
 ],
 "metadata": {
  "kernelspec": {
   "display_name": "Python 3 (ipykernel)",
   "language": "python",
   "name": "python3"
  },
  "language_info": {
   "codemirror_mode": {
    "name": "ipython",
    "version": 3
   },
   "file_extension": ".py",
   "mimetype": "text/x-python",
   "name": "python",
   "nbconvert_exporter": "python",
   "pygments_lexer": "ipython3",
   "version": "3.10.12"
  }
 },
 "nbformat": 4,
 "nbformat_minor": 5
}
